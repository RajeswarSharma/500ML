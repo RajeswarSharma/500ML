{
 "cells": [
  {
   "cell_type": "code",
   "execution_count": 12,
   "source": [
    "import numpy as np\r\n",
    "import pandas as pd\r\n",
    "from keras.datasets import mnist\r\n",
    "import sys"
   ],
   "outputs": [],
   "metadata": {}
  },
  {
   "cell_type": "code",
   "execution_count": 13,
   "source": [
    "(x_train, y_train), (x_test, y_test) = mnist.load_data()\r\n"
   ],
   "outputs": [],
   "metadata": {}
  },
  {
   "cell_type": "code",
   "execution_count": 14,
   "source": [
    "Inputs = x_train[0:1000].reshape(1000,28*28)/255\r\n",
    "targets = y_train[0:1000]"
   ],
   "outputs": [],
   "metadata": {}
  },
  {
   "cell_type": "code",
   "execution_count": 15,
   "source": [
    "test_images = x_test.reshape(len(x_test), 28*28) / 255\r\n",
    "test_labels = np.zeros((len(y_test), 10))\r\n",
    "for i, l in enumerate(y_test):\r\n",
    "    test_labels[i][l] = 1\r\n"
   ],
   "outputs": [],
   "metadata": {}
  },
  {
   "cell_type": "code",
   "execution_count": 16,
   "source": [
    "one_hot_labels = np.zeros((len(targets), 10))\r\n",
    "for i, l in enumerate(targets):\r\n",
    "    one_hot_labels[i][l] = 1\r\n",
    "target = one_hot_labels\r\n"
   ],
   "outputs": [],
   "metadata": {}
  },
  {
   "cell_type": "code",
   "execution_count": 17,
   "source": [
    "# inner Layer activation functions\r\n",
    "def tanh(x):\r\n",
    "    return np.tanh(x)\r\n",
    "    \r\n",
    "def tanh2deriv(x):\r\n",
    "    return 1 - (x**2)"
   ],
   "outputs": [],
   "metadata": {}
  },
  {
   "cell_type": "code",
   "execution_count": 18,
   "source": [
    "def relu(x):\r\n",
    "    return (x>=0)*x\r\n",
    "def relu2deriv(x):\r\n",
    "    return x>=0"
   ],
   "outputs": [],
   "metadata": {}
  },
  {
   "cell_type": "code",
   "execution_count": 19,
   "source": [
    "#Output Layer activation Functions\r\n",
    "def softmax(x):\r\n",
    "    temp=  np.exp(x)\r\n",
    "    return temp/np.sum(temp,keepdims=True,axis=1)"
   ],
   "outputs": [],
   "metadata": {}
  },
  {
   "cell_type": "code",
   "execution_count": 20,
   "source": [
    "alpha = 0.001\r\n",
    "iterations =450\r\n",
    "hidden_layer_size = 200\r\n",
    "np.random.seed(1)\r\n",
    "number_pixles = 784\r\n",
    "weight_0_1 = 0.02*np.random.random((number_pixles,hidden_layer_size))-0.01\r\n",
    "weight_1_2 = 0.2*np.random.random((hidden_layer_size,10))-0.1\r\n"
   ],
   "outputs": [],
   "metadata": {}
  },
  {
   "cell_type": "code",
   "execution_count": 21,
   "source": [
    "for i in range(iterations):\r\n",
    "    correct_cnt = 0\r\n",
    "    for j in range(len(Inputs)):\r\n",
    "        \r\n",
    "        layer_0 = Inputs[j:j+1]\r\n",
    "        layer_1 = tanh(np.dot(layer_0,weight_0_1))\r\n",
    "\r\n",
    "        dropout_mask = np.random.randint(2,size=layer_1.size)\r\n",
    "        layer_1 *= dropout_mask*2\r\n",
    "        layer_2 = softmax(np.dot(layer_1,weight_1_2))\r\n",
    "        correct_cnt += int(np.argmax(layer_2) == np.argmax(target[j:j+1]))\r\n",
    "       # error += np.sum((target[j:j+1]-layer_2)**2)\r\n",
    "        \r\n",
    "        layer_2_delta = (target[j:j+1]-layer_2)   \r\n",
    "        layer_1_delta = layer_2_delta.dot(weight_1_2.T)*tanh2deriv(layer_1)\r\n",
    "        layer_1_delta *= dropout_mask\r\n",
    "        weight_1_2 += alpha*layer_1.T.dot(layer_2_delta)\r\n",
    "        weight_0_1 += alpha*layer_0.T.dot(layer_1_delta)\r\n",
    "    \r\n",
    "    sys.stdout.write(\"\\r\" +\r\n",
    "                     \" I:\"+str(i) +\r\n",
    "                     \" Correct:\" + str(correct_cnt/float(len(Inputs))))\r\n",
    "    if(i % 10 == 0 or i == iterations-1):\r\n",
    "        error, correct_cnt = (0.0, 0)\r\n",
    "        for  k in range(len(test_images)):\r\n",
    "            layer_0 = test_images[k:k+1]\r\n",
    "            layer_1 = tanh(np.dot(layer_0, weight_0_1))\r\n",
    "            layer_2 = softmax(np.dot(layer_1, weight_1_2))\r\n",
    "           # error += np.sum((test_labels[i:i+1] - layer_2) ** 2)\r\n",
    "            correct_cnt += int(np.argmax(layer_2) ==\r\n",
    "                               np.argmax(test_labels[k:k+1]))\r\n",
    "        sys.stdout.write(\" Test-Acc:\" + str(correct_cnt/float(len(test_images))))\r\n",
    "        print()\r\n",
    "   \r\n"
   ],
   "outputs": [
    {
     "output_type": "stream",
     "name": "stdout",
     "text": [
      " I:0 Correct:0.514 Test-Acc:0.6808\n",
      " I:10 Correct:0.855 Test-Acc:0.8197\n",
      " I:20 Correct:0.898 Test-Acc:0.8477\n",
      " I:30 Correct:0.925 Test-Acc:0.8567\n",
      " I:40 Correct:0.94 Test-Acc:0.8637\n",
      " I:50 Correct:0.95 Test-Acc:0.8661\n",
      " I:60 Correct:0.954 Test-Acc:0.8662\n",
      " I:70 Correct:0.961 Test-Acc:0.8688\n",
      " I:80 Correct:0.965 Test-Acc:0.8694\n",
      " I:90 Correct:0.975 Test-Acc:0.8704\n",
      " I:100 Correct:0.977 Test-Acc:0.8707\n",
      " I:110 Correct:0.981 Test-Acc:0.8726\n",
      " I:120 Correct:0.982 Test-Acc:0.8742\n",
      " I:130 Correct:0.976 Test-Acc:0.8742\n",
      " I:140 Correct:0.989 Test-Acc:0.8759\n",
      " I:150 Correct:0.985 Test-Acc:0.8766\n",
      " I:160 Correct:0.977 Test-Acc:0.8782\n",
      " I:170 Correct:0.991 Test-Acc:0.8774\n",
      " I:180 Correct:0.991 Test-Acc:0.8777\n",
      " I:190 Correct:0.987 Test-Acc:0.8784\n",
      " I:200 Correct:0.992 Test-Acc:0.8776\n",
      " I:210 Correct:0.992 Test-Acc:0.8789\n",
      " I:220 Correct:0.994 Test-Acc:0.8807\n",
      " I:230 Correct:0.992 Test-Acc:0.8791\n",
      " I:240 Correct:0.994 Test-Acc:0.8806\n",
      " I:250 Correct:0.994 Test-Acc:0.8817\n",
      " I:260 Correct:0.99 Test-Acc:0.8824\n",
      " I:270 Correct:0.995 Test-Acc:0.8828\n",
      " I:280 Correct:0.99 Test-Acc:0.8838\n",
      " I:290 Correct:0.995 Test-Acc:0.8846\n",
      " I:300 Correct:0.992 Test-Acc:0.8846\n",
      " I:310 Correct:0.992 Test-Acc:0.8837\n",
      " I:320 Correct:0.993 Test-Acc:0.8842\n",
      " I:330 Correct:0.996 Test-Acc:0.8851\n",
      " I:340 Correct:0.993 Test-Acc:0.8848\n",
      " I:350 Correct:0.991 Test-Acc:0.8869\n",
      " I:360 Correct:0.993 Test-Acc:0.8852\n",
      " I:370 Correct:0.986 Test-Acc:0.8866\n",
      " I:380 Correct:0.993 Test-Acc:0.8866\n",
      " I:390 Correct:0.993 Test-Acc:0.8858\n",
      " I:400 Correct:0.989 Test-Acc:0.887\n",
      " I:410 Correct:0.993 Test-Acc:0.8873\n",
      " I:420 Correct:0.989 Test-Acc:0.8876\n",
      " I:430 Correct:0.993 Test-Acc:0.8874\n",
      " I:440 Correct:0.996 Test-Acc:0.8873\n",
      " I:449 Correct:0.993 Test-Acc:0.8862\n"
     ]
    }
   ],
   "metadata": {}
  },
  {
   "cell_type": "code",
   "execution_count": 22,
   "source": [
    "weight_1_2[0]"
   ],
   "outputs": [
    {
     "output_type": "execute_result",
     "data": {
      "text/plain": [
       "array([-0.23576423,  0.39940443, -0.22894977, -0.36199746, -0.06770245,\n",
       "        0.08344135,  0.22057008,  0.22892419, -0.27536447,  0.18720588])"
      ]
     },
     "metadata": {},
     "execution_count": 22
    }
   ],
   "metadata": {}
  },
  {
   "cell_type": "code",
   "execution_count": 48,
   "source": [
    "#Handwritten Data\r\n",
    "import cv2 as cv\r\n",
    "import matplotlib.pyplot as plt\r\n",
    "image = cv.imread('test.png')\r\n",
    "image = cv.cvtColor(image,cv.COLOR_BGR2GRAY)\r\n",
    "ret, image = cv.threshold(image, 120, 255, cv.THRESH_BINARY)\r\n",
    "image = cv.resize(image,(28,28))\r\n"
   ],
   "outputs": [],
   "metadata": {}
  },
  {
   "cell_type": "code",
   "execution_count": 47,
   "source": [
    "ip = np.array(image)/255\r\n",
    "ip= ip.reshape((1,28*28))\r\n",
    "ip.shape\r\n",
    "layer_0 = ip\r\n",
    "layer_1 = tanh(np.dot(layer_0,weight_0_1))\r\n",
    "layer_2 = softmax(np.dot(layer_1,weight_1_2))\r\n",
    "np.argmax(layer_2)\r\n",
    "plt.title(\"Prediction by ANN : \"+str(np.argmax(layer_2)))\r\n",
    "plt.imshow(image)\r\n"
   ],
   "outputs": [
    {
     "output_type": "execute_result",
     "data": {
      "text/plain": [
       "<matplotlib.image.AxesImage at 0x1c377351490>"
      ]
     },
     "metadata": {},
     "execution_count": 47
    },
    {
     "output_type": "display_data",
     "data": {
      "text/plain": [
       "<Figure size 432x288 with 1 Axes>"
      ],
      "image/png": "[encoded data removed]"
     },
     "metadata": {
      "needs_background": "light"
     }
    }
   ],
   "metadata": {}
  }
 ],
 "metadata": {
  "interpreter": {
   "hash": "ce90fcae62cdc09553768240cfe068f0f50d8bd5e5b69ab39b3ef7652f49ed7b"
  },
  "kernelspec": {
   "name": "python3",
   "display_name": "Python 3.9.1 64-bit"
  },
  "language_info": {
   "codemirror_mode": {
    "name": "ipython",
    "version": 3
   },
   "file_extension": ".py",
   "mimetype": "text/x-python",
   "name": "python",
   "nbconvert_exporter": "python",
   "pygments_lexer": "ipython3",
   "version": "3.9.1"
  }
 },
 "nbformat": 4,
 "nbformat_minor": 2
}