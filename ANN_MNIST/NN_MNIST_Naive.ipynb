{
 "cells": [
  {
   "cell_type": "code",
   "execution_count": 1,
   "source": [
    "import pandas as pd\r\n",
    "import numpy as np \r\n",
    "np.random.seed(2)"
   ],
   "outputs": [],
   "metadata": {}
  },
  {
   "cell_type": "code",
   "execution_count": 2,
   "source": [
    "data = pd.read_csv('./cleaned_data.csv')\r\n",
    "data.drop(columns=['Unnamed: 0'],inplace=True)\r\n",
    "data = data.sample(frac=1).reset_index(drop=True)"
   ],
   "outputs": [],
   "metadata": {}
  },
  {
   "cell_type": "code",
   "execution_count": 3,
   "source": [
    "labels = data['label']\r\n",
    "Inputs = data.drop(columns=['label'])"
   ],
   "outputs": [],
   "metadata": {}
  },
  {
   "cell_type": "code",
   "execution_count": 4,
   "source": [
    "target = np.zeros((len(labels),10))"
   ],
   "outputs": [],
   "metadata": {}
  },
  {
   "cell_type": "code",
   "execution_count": 5,
   "source": [
    "for i in range(len(labels)):\r\n",
    "    target[i][labels.iloc[i]] = 1\r\n",
    "Inputs = np.array(Inputs)\r\n"
   ],
   "outputs": [],
   "metadata": {}
  },
  {
   "cell_type": "code",
   "execution_count": 6,
   "source": [
    "iterations = 350\r\n",
    "hidden_layer_size = 40\r\n",
    "number_of_pixels = 784\r\n",
    "alpha = 0.001\r\n",
    "weight_0_1 = 0.2*np.random.random((number_of_pixels,hidden_layer_size))-0.1\r\n",
    "weight_1_2 = 0.2*np.random.random((hidden_layer_size,10))-0.1"
   ],
   "outputs": [],
   "metadata": {}
  },
  {
   "cell_type": "code",
   "execution_count": 7,
   "source": [
    "def relu(x):\r\n",
    "    return (x>=0)*x\r\n",
    "\r\n",
    "def relu2deriv(x):\r\n",
    "    return x>=0"
   ],
   "outputs": [],
   "metadata": {}
  },
  {
   "cell_type": "code",
   "execution_count": 8,
   "source": [
    "for i in range(iterations):\r\n",
    "    error, correct_cnt = (0.0, 0)\r\n",
    "    for j in range(len(Inputs)):\r\n",
    "        \r\n",
    "        layer_0 = Inputs[j:j+1]\r\n",
    "        layer_1 = relu(np.dot(layer_0,weight_0_1))\r\n",
    "        dropout_mask = np.random.randint(2,size = layer_1.shape)\r\n",
    "        layer_1 *= dropout_mask*2\r\n",
    "        layer_2 = np.dot(layer_1,weight_1_2)\r\n",
    "        correct_cnt += int(np.argmax(layer_2) ==\r\n",
    "                           np.argmax(target[i:i+1]))\r\n",
    "        error += np.sum((target[j:j+1]-layer_2  )**2)\r\n",
    "        \r\n",
    "        layer_2_delta = target[j:j+1]-layer_2 \r\n",
    "        layer_1_delta = np.dot(layer_2_delta,weight_1_2.T)*relu2deriv(layer_1)\r\n",
    "        layer_1*=dropout_mask\r\n",
    "        weight_1_2 += alpha*layer_1.T.dot(layer_2_delta)\r\n",
    "        weight_0_1 += alpha*layer_0.T.dot(layer_1_delta)\r\n",
    "    sys.stdout.write(\"\\r\" +\r\n",
    "                     \" I:\"+str(i) +\r\n",
    "                     \" Error:\" + str(error/float(len(Inputs)))[0:5] +\r\n",
    "                     \" Correct:\" + str(correct_cnt/float(len(Inputs))))\r\n"
   ],
   "outputs": [],
   "metadata": {}
  },
  {
   "cell_type": "code",
   "execution_count": null,
   "source": [
    "np.random.randint(2,size=layer_1.shape).dot(layer_1.T)"
   ],
   "outputs": [
    {
     "output_type": "execute_result",
     "data": {
      "text/plain": [
       "array([[2.15567948]])"
      ]
     },
     "metadata": {},
     "execution_count": 71
    }
   ],
   "metadata": {}
  },
  {
   "cell_type": "code",
   "execution_count": null,
   "source": [
    "np.array([1,2,3,4])*np.array([1,2,3,4])"
   ],
   "outputs": [
    {
     "output_type": "execute_result",
     "data": {
      "text/plain": [
       "array([ 1,  4,  9, 16])"
      ]
     },
     "metadata": {},
     "execution_count": 73
    }
   ],
   "metadata": {}
  },
  {
   "cell_type": "code",
   "execution_count": null,
   "source": [],
   "outputs": [],
   "metadata": {}
  }
 ],
 "metadata": {
  "orig_nbformat": 4,
  "language_info": {
   "name": "python",
   "version": "3.9.1",
   "mimetype": "text/x-python",
   "codemirror_mode": {
    "name": "ipython",
    "version": 3
   },
   "pygments_lexer": "ipython3",
   "nbconvert_exporter": "python",
   "file_extension": ".py"
  },
  "kernelspec": {
   "name": "python3",
   "display_name": "Python 3.9.1 64-bit"
  },
  "interpreter": {
   "hash": "ce90fcae62cdc09553768240cfe068f0f50d8bd5e5b69ab39b3ef7652f49ed7b"
  }
 },
 "nbformat": 4,
 "nbformat_minor": 2
}