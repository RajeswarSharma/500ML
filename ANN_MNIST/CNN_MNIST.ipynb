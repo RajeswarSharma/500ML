{
 "cells": [
  {
   "cell_type": "markdown",
   "source": [
    "# CNN from scratch"
   ],
   "metadata": {}
  },
  {
   "cell_type": "code",
   "execution_count": 1,
   "source": [
    "def get_image_section(layer,row_from,row_to,col_from,col_to):\r\n",
    "    sub_section = layer[:,row_from:row_to,col_from:col_to]\r\n",
    "    return sub_section.reshape(-1,1,row_to-row_from,col_to-col_from)"
   ],
   "outputs": [],
   "metadata": {}
  },
  {
   "cell_type": "code",
   "execution_count": 2,
   "source": [
    "import numpy as np\r\n",
    "from keras.datasets import mnist\r\n",
    "np.random.seed(1)"
   ],
   "outputs": [],
   "metadata": {}
  },
  {
   "cell_type": "code",
   "execution_count": 3,
   "source": [
    "(x_train,y_train),(x_test,y_test) = mnist.load_data()"
   ],
   "outputs": [],
   "metadata": {}
  },
  {
   "cell_type": "code",
   "execution_count": 4,
   "source": [
    "images,labels = x_train[:1000]/255,y_train[0:1000]"
   ],
   "outputs": [],
   "metadata": {}
  },
  {
   "cell_type": "code",
   "execution_count": 5,
   "source": [
    "one_hot_labels = np.zeros((len(labels), 10))\r\n",
    "for i, l in enumerate(labels):\r\n",
    "    one_hot_labels[i][l] = 1\r\n",
    "labels = one_hot_labels\r\n"
   ],
   "outputs": [],
   "metadata": {}
  },
  {
   "cell_type": "code",
   "execution_count": 6,
   "source": [
    "test_images = x_test.reshape(len(x_test), 28*28) / 255\r\n",
    "test_labels = np.zeros((len(y_test), 10))\r\n",
    "for i, l in enumerate(y_test):\r\n",
    "    test_labels[i][l] = 1\r\n"
   ],
   "outputs": [],
   "metadata": {}
  },
  {
   "cell_type": "code",
   "execution_count": 7,
   "source": [
    "#for batch subsection\r\n",
    "def get_image_section(arr,from_row,to_row,from_col,to_col):\r\n",
    "    sub = arr[:,from_row:to_row,from_col:to_col]\r\n",
    "    return sub.reshape(-1,1,to_row-from_row,to_col-from_col)# , row_to-row_from, col_to-col_from)\r\n"
   ],
   "outputs": [],
   "metadata": {}
  },
  {
   "cell_type": "code",
   "execution_count": 8,
   "source": [
    "def tanh(x):\r\n",
    "    return np.tanh(x)\r\n",
    "\r\n",
    "def tanh2deriv(x):\r\n",
    "    return 1 - (x**2)"
   ],
   "outputs": [],
   "metadata": {}
  },
  {
   "cell_type": "code",
   "execution_count": 9,
   "source": [
    "def softmax(x):\r\n",
    "    temp =np.exp(x)\r\n",
    "    return temp/np.sum(temp,axis=1,keepdims=True) "
   ],
   "outputs": [],
   "metadata": {}
  },
  {
   "cell_type": "code",
   "execution_count": 13,
   "source": [
    "alpha, iterations = (0.5, 600)\r\n",
    "pixels_per_image, num_labels = (784, 10)\r\n",
    "batch_size = 128\r\n",
    "input_rows = 28\r\n",
    "input_cols = 28\r\n",
    "kernel_rows = 3\r\n",
    "kernel_cols = 3\r\n",
    "num_kernels = 16\r\n",
    "hidden_size = (input_rows-kernel_rows)*(input_cols-kernel_cols)*num_kernels"
   ],
   "outputs": [],
   "metadata": {}
  },
  {
   "cell_type": "code",
   "execution_count": 14,
   "source": [
    "kernals = 0.02*np.random.random((kernel_rows*kernel_cols,num_kernels))-0.01\r\n",
    "weights_1_2 = 0.2*np.random.random((hidden_size,num_labels))-0.1"
   ],
   "outputs": [],
   "metadata": {}
  },
  {
   "cell_type": "code",
   "execution_count": 15,
   "source": [
    "for j in range(iterations):\r\n",
    "    correct_cnt = 0 \r\n",
    "    for i in range(int(len(images)/batch_size)):\r\n",
    "        batch_start,batch_end = i*batch_size,(1+i)*batch_size\r\n",
    "        layer_0 = images[batch_start:batch_end]\r\n",
    "        sects = []\r\n",
    "        for start_row in range(input_rows-kernel_rows):\r\n",
    "            for start_col in range(input_cols-kernel_cols):\r\n",
    "                sect = get_image_section(layer_0,start_row,start_row+kernel_rows,start_col,start_col+kernel_cols)\r\n",
    "                sects.append(sect)\r\n",
    "        extended_input = np.concatenate(sects,axis=1)\r\n",
    "        es = extended_input.shape\r\n",
    "        flattened_input = extended_input.reshape(es[0]*es[1],-1)\r\n",
    "        kernal_output = flattened_input.dot(kernals)\r\n",
    "        # print(kernal_output.shape)\r\n",
    "        # print(kernal_output.reshape(es[0],-1).shape)\r\n",
    "        # print(kernal_output.reshape(es[0],-1).shape)\r\n",
    "        # print(weights_1_2.shape)\r\n",
    "        layer_1 = tanh(kernal_output.reshape(es[0],-1))\r\n",
    "        dropout_mask = np.random.randint(2,size=layer_1.shape)\r\n",
    "        layer_1*= dropout_mask*2\r\n",
    "        layer_2 = softmax(np.dot(layer_1,weights_1_2))\r\n",
    "        \r\n",
    "        for k in range(batch_size):\r\n",
    "            labelset = labels[batch_start+k:batch_start+k+1]\r\n",
    "            _inc = int(np.argmax(layer_2[k:k+1]) == np.argmax(labelset))\r\n",
    "            correct_cnt += _inc\r\n",
    "        layer_2_delta = (labels[batch_start:batch_end]-layer_2)/(batch_size * layer_2.shape[0])\r\n",
    "        layer_1_delta = layer_2_delta.dot(weights_1_2.T) * tanh2deriv(layer_1)\r\n",
    "        layer_1_delta *= dropout_mask\r\n",
    "        weights_1_2 += alpha * layer_1.T.dot(layer_2_delta)\r\n",
    "        l1d_reshape = layer_1_delta.reshape(kernal_output.shape)\r\n",
    "        k_update = flattened_input.T.dot(l1d_reshape)\r\n",
    "        kernals -= alpha * k_update\r\n",
    "        \r\n",
    "    test_correct_cnt = 0\r\n",
    "    for i in range(len(test_images)):\r\n",
    "        layer_0 = test_images[i:i+1]\r\n",
    "        layer_0 = layer_0.reshape(layer_0.shape[0],28,28)\r\n",
    "        layer_0.shape\r\n",
    "        sects = list()\r\n",
    "        for row_start in range(layer_0.shape[1]-kernel_rows):\r\n",
    "            for col_start in range(layer_0.shape[2] - kernel_cols):\r\n",
    "                sect = get_image_section(layer_0,row_start,row_start+kernel_rows,  col_start,col_start+kernel_cols)\r\n",
    "                sects.append(sect)\r\n",
    "    \r\n",
    "        expanded_input = np.concatenate(sects,axis=1)\r\n",
    "        es = expanded_input.shape\r\n",
    "        flattened_input = expanded_input.reshape(es[0]*es[1],-1)\r\n",
    "        kernel_output = flattened_input.dot(kernals)\r\n",
    "        layer_1 = tanh(kernel_output.reshape(es[0],-1))\r\n",
    "        layer_2 = np.dot(layer_1,weights_1_2)\r\n",
    "        test_correct_cnt += int(np.argmax(layer_2) == \r\n",
    "        np.argmax(test_labels[i:i+1]))\r\n",
    "    if(j % 1 == 0):\r\n",
    "            sys.stdout.write(\"\\n\"+ \\\r\n",
    "    \"I:\" + str(j) + \\\r\n",
    "    \" Test-Acc:\"+str(test_correct_cnt/float(len(test_images)))+\\\r\n",
    "    \" Train-Acc:\" + str(correct_cnt/float(len(images))))    \r\n",
    "        \r\n"
   ],
   "outputs": [],
   "metadata": {}
  }
 ],
 "metadata": {
  "orig_nbformat": 4,
  "language_info": {
   "name": "python",
   "version": "3.9.1",
   "mimetype": "text/x-python",
   "codemirror_mode": {
    "name": "ipython",
    "version": 3
   },
   "pygments_lexer": "ipython3",
   "nbconvert_exporter": "python",
   "file_extension": ".py"
  },
  "kernelspec": {
   "name": "python3",
   "display_name": "Python 3.9.1 64-bit"
  },
  "interpreter": {
   "hash": "ce90fcae62cdc09553768240cfe068f0f50d8bd5e5b69ab39b3ef7652f49ed7b"
  }
 },
 "nbformat": 4,
 "nbformat_minor": 2
}