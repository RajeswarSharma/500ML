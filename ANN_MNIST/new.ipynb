{
 "cells": [
  {
   "cell_type": "code",
   "execution_count": 1,
   "source": [
    "import sys\r\n",
    "import numpy as np\r\n",
    "from keras.datasets import mnist\r\n",
    "(x_train, y_train), (x_test, y_test) = mnist.load_data()\r\n",
    "images, labels = (x_train[0:1000].reshape(1000, 28*28), y_train[0:1000])\r\n",
    "one_hot_labels = np.zeros((len(labels), 10))\r\n",
    "\r\n",
    "for i, l in enumerate(labels):\r\n",
    "    one_hot_labels[i][l] = 1\r\n",
    "    labels = one_hot_labels\r\n",
    "\r\n",
    "test_images = x_test.reshape(len(x_test), 28*28) / 255\r\n",
    "test_labels = np.zeros((len(y_test), 10))\r\n",
    "for i, l in enumerate(y_test):\r\n",
    "    test_labels[i][l] = 1\r\n",
    "\r\n",
    "np.random.seed(1)\r\n",
    "def relu(x): return (x >= 0) * x\r\n",
    "def relu2deriv(x): return x >= 0\r\n",
    "\r\n",
    "\r\n",
    "alpha, iterations, hidden_size, pixels_per_image, num_labels = (0.005, 350, 40, 784, 10)\r\n",
    "weights_0_1 = 0.2*np.random.random((pixels_per_image, hidden_size)) - 0.1\r\n",
    "weights_1_2 = 0.2*np.random.random((hidden_size, num_labels)) - 0.1\r\n",
    "\r\n"
   ],
   "outputs": [],
   "metadata": {}
  },
  {
   "cell_type": "code",
   "execution_count": 2,
   "source": [
    "for j in range(iterations):\r\n",
    "    error, correct_cnt = (0.0, 0)\r\n",
    "    for i in range(len(images)):\r\n",
    "        layer_0 = images[i:i+1]\r\n",
    "        layer_1 = relu(np.dot(layer_0, weights_0_1))\r\n",
    "        layer_2 = np.dot(layer_1, weights_1_2)\r\n",
    "        error += np.sum((labels[i:i+1] - layer_2) ** 2)\r\n",
    "        correct_cnt += int(np.argmax(layer_2) == np.argmax(labels[i:i+1]))\r\n",
    "        layer_2_delta = (labels[i:i+1] - layer_2)\r\n",
    "        layer_1_delta = layer_2_delta.dot(weights_1_2.T)* relu2deriv(layer_1)\r\n",
    "        weights_1_2 += alpha * layer_1.T.dot(layer_2_delta)\r\n",
    "        weights_0_1 += alpha * layer_0.T.dot(layer_1_delta)\r\n",
    "    sys.stdout.write(\"\\r\" +\r\n",
    "                     \" Error:\" + str(error/float(len(images))))\r\n"
   ],
   "outputs": [
    {
     "output_type": "stream",
     "name": "stderr",
     "text": [
      "<ipython-input-2-16cd746b58ab>:7: RuntimeWarning: overflow encountered in square\n",
      "  error += np.sum((labels[i:i+1] - layer_2) ** 2)\n"
     ]
    },
    {
     "output_type": "error",
     "ename": "NameError",
     "evalue": "name 'Inputs' is not defined",
     "traceback": [
      "\u001b[1;31m---------------------------------------------------------------------------\u001b[0m",
      "\u001b[1;31mNameError\u001b[0m                                 Traceback (most recent call last)",
      "\u001b[1;32m<ipython-input-2-16cd746b58ab>\u001b[0m in \u001b[0;36m<module>\u001b[1;34m\u001b[0m\n\u001b[0;32m     12\u001b[0m         \u001b[0mweights_0_1\u001b[0m \u001b[1;33m+=\u001b[0m \u001b[0malpha\u001b[0m \u001b[1;33m*\u001b[0m \u001b[0mlayer_0\u001b[0m\u001b[1;33m.\u001b[0m\u001b[0mT\u001b[0m\u001b[1;33m.\u001b[0m\u001b[0mdot\u001b[0m\u001b[1;33m(\u001b[0m\u001b[0mlayer_1_delta\u001b[0m\u001b[1;33m)\u001b[0m\u001b[1;33m\u001b[0m\u001b[1;33m\u001b[0m\u001b[0m\n\u001b[0;32m     13\u001b[0m     sys.stdout.write(\"\\r\" +\n\u001b[1;32m---> 14\u001b[1;33m                      \" Error:\" + str(error/float(len(Inputs))))\n\u001b[0m",
      "\u001b[1;31mNameError\u001b[0m: name 'Inputs' is not defined"
     ]
    }
   ],
   "metadata": {}
  },
  {
   "cell_type": "code",
   "execution_count": null,
   "source": [
    "weights_0_1"
   ],
   "outputs": [
    {
     "output_type": "execute_result",
     "data": {
      "text/plain": [
       "array([[nan, nan, nan, ..., nan, nan, nan],\n",
       "       [nan, nan, nan, ..., nan, nan, nan],\n",
       "       [nan, nan, nan, ..., nan, nan, nan],\n",
       "       ...,\n",
       "       [nan, nan, nan, ..., nan, nan, nan],\n",
       "       [nan, nan, nan, ..., nan, nan, nan],\n",
       "       [nan, nan, nan, ..., nan, nan, nan]])"
      ]
     },
     "metadata": {},
     "execution_count": 9
    }
   ],
   "metadata": {}
  },
  {
   "cell_type": "code",
   "execution_count": null,
   "source": [
    "weights_0_1"
   ],
   "outputs": [
    {
     "output_type": "execute_result",
     "data": {
      "text/plain": [
       "array([[nan, nan, nan, ..., nan, nan, nan],\n",
       "       [nan, nan, nan, ..., nan, nan, nan],\n",
       "       [nan, nan, nan, ..., nan, nan, nan],\n",
       "       ...,\n",
       "       [nan, nan, nan, ..., nan, nan, nan],\n",
       "       [nan, nan, nan, ..., nan, nan, nan],\n",
       "       [nan, nan, nan, ..., nan, nan, nan]])"
      ]
     },
     "metadata": {},
     "execution_count": 10
    }
   ],
   "metadata": {}
  },
  {
   "cell_type": "code",
   "execution_count": null,
   "source": [],
   "outputs": [],
   "metadata": {}
  }
 ],
 "metadata": {
  "interpreter": {
   "hash": "ce90fcae62cdc09553768240cfe068f0f50d8bd5e5b69ab39b3ef7652f49ed7b"
  },
  "kernelspec": {
   "name": "python3",
   "display_name": "Python 3.9.1 64-bit"
  },
  "language_info": {
   "codemirror_mode": {
    "name": "ipython",
    "version": 3
   },
   "file_extension": ".py",
   "mimetype": "text/x-python",
   "name": "python",
   "nbconvert_exporter": "python",
   "pygments_lexer": "ipython3",
   "version": "3.9.1"
  }
 },
 "nbformat": 4,
 "nbformat_minor": 2
}