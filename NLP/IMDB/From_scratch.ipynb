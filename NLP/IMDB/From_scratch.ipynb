{
 "cells": [
  {
   "cell_type": "code",
   "execution_count": 3,
   "source": [
    "import sys\r\n",
    "import pandas as pd"
   ],
   "outputs": [],
   "metadata": {}
  },
  {
   "cell_type": "code",
   "execution_count": 4,
   "source": [
    "data = pd.read_csv('IMDB.csv')"
   ],
   "outputs": [],
   "metadata": {}
  },
  {
   "cell_type": "code",
   "execution_count": 5,
   "source": [
    "data.head(10)\r\n",
    "reviews = list(data['review'])"
   ],
   "outputs": [],
   "metadata": {}
  },
  {
   "cell_type": "code",
   "execution_count": 6,
   "source": [
    "vocab = set()\r\n",
    "for sent in reviews:\r\n",
    "    for word in sent.split(' '):\r\n",
    "        if len(word)>0:\r\n",
    "            vocab.add(word)\r\n",
    "vocab = list(vocab)"
   ],
   "outputs": [],
   "metadata": {}
  },
  {
   "cell_type": "code",
   "execution_count": 7,
   "source": [
    "word2index = {}\r\n",
    "for i,word in enumerate(vocab):\r\n",
    "    word2index[word] = i"
   ],
   "outputs": [],
   "metadata": {}
  },
  {
   "cell_type": "code",
   "execution_count": 8,
   "source": [
    "input_dataset = list()\r\n",
    "for sent in reviews:\r\n",
    "    sent_indeces = list()\r\n",
    "    for word in sent:\r\n",
    "        try:\r\n",
    "            sent_indeces.append(word2index[word])\r\n",
    "        except:\r\n",
    "            \"\"\r\n",
    "    input_dataset.append(list(set(sent_indeces)))"
   ],
   "outputs": [],
   "metadata": {}
  },
  {
   "cell_type": "code",
   "execution_count": 9,
   "source": [
    "target_dataset = list()\r\n",
    "sentiments = list(data['sentiment'])\r\n",
    "for sentiment in sentiments:\r\n",
    "    if sentiment == 'positive':\r\n",
    "        target_dataset.append(1)\r\n",
    "    else: target_dataset.append(0)"
   ],
   "outputs": [],
   "metadata": {}
  },
  {
   "cell_type": "code",
   "execution_count": 10,
   "source": [
    "import numpy as np \r\n",
    "np.random.seed(1)"
   ],
   "outputs": [],
   "metadata": {}
  },
  {
   "cell_type": "code",
   "execution_count": 11,
   "source": [
    "def sigmoid(x):\r\n",
    "    return 1/(1+np.exp(-x))"
   ],
   "outputs": [],
   "metadata": {}
  },
  {
   "cell_type": "code",
   "execution_count": 12,
   "source": [
    "def sigmoid2deriv(x):\r\n",
    "    return x*(1-x)"
   ],
   "outputs": [],
   "metadata": {}
  },
  {
   "cell_type": "code",
   "execution_count": 15,
   "source": [
    "alpha,iterations = (0.01,2)\r\n",
    "hidden_size = 100\r\n",
    "weights_0_1 = 0.2*np.random.random((len(vocab),hidden_size))-0.1\r\n",
    "weights_1_2 = 0.2*np.random.random((hidden_size,1))-0.1\r\n",
    "correct,total = (0,0)"
   ],
   "outputs": [],
   "metadata": {}
  },
  {
   "cell_type": "code",
   "execution_count": 16,
   "source": [
    "for iter in range(iterations):\r\n",
    "    for i in range(len(input_dataset)-1000):\r\n",
    "        x,y = input_dataset[i],target_dataset[i]\r\n",
    "        layer_1 = sigmoid(np.sum(weights_0_1[x],axis=0))\r\n",
    "        layer_2 = sigmoid(np.dot(layer_1,weights_1_2))\r\n",
    "\r\n",
    "        layer_2_delta = layer_2-y\r\n",
    "        layer_1_delta = layer_2_delta.dot(weights_1_2.T)*sigmoid2deriv(layer_1)\r\n",
    "\r\n",
    "        weights_0_1[x] -= layer_1_delta*alpha\r\n",
    "        weights_1_2 -= np.outer(layer_1,layer_2_delta)*alpha\r\n",
    "        if(np.abs(layer_2_delta)<0.5):\r\n",
    "            correct +=1\r\n",
    "        total+=1\r\n",
    "        if(i%10==9):\r\n",
    "            progress = str(i/float(len(input_dataset)))\r\n",
    "            sys.stdout.write('\\rIter:'+str(iter)+' Progress:'+progress[2:4]+\r\n",
    "            '% Training Acc:'+str(correct/float(total))+'%')\r\n",
    "    print()\r\n",
    "\r\n",
    "correct,total = 0,0\r\n",
    "for i in range(len(input_dataset)-1000,len(input_dataset)):\r\n",
    "    x=input_dataset[i]\r\n",
    "    y = target_dataset[i]\r\n",
    "    layer_1 = sigmoid(np.sum(weights_0_1[x], axis=0))\r\n",
    "    layer_2 = sigmoid(np.dot(layer_1,weights_1_2))\r\n",
    "    if (np.abs(layer_2-y)<0.5):\r\n",
    "        correct+=1\r\n",
    "    total+=1\r\n",
    "print(\"Test Accuracy:\" + str(correct / float(total)))\r\n"
   ],
   "outputs": [
    {
     "output_type": "stream",
     "name": "stdout",
     "text": [
      "Iter:0 Progress:97% Training Acc:0.5832244897959183%\n",
      "Iter:1 Progress:97% Training Acc:0.5967448979591837%\n",
      "Test Accuracy:0.616\n"
     ]
    }
   ],
   "metadata": {}
  },
  {
   "cell_type": "code",
   "execution_count": 17,
   "source": [
    "from collections import Counter\r\n",
    "import math\r\n",
    "def similar(target):\r\n",
    "    target_index = word2index[target]\r\n",
    "    scores = Counter()\r\n",
    "    for word,index in word2index.items():\r\n",
    "        diff = weights_0_1[index]-weights_0_1[target_index]\r\n",
    "        sq_diff = diff**2\r\n",
    "        scores[word] = -math.sqrt(sum(sq_diff))\r\n",
    "    return scores.most_common(10)"
   ],
   "outputs": [],
   "metadata": {}
  },
  {
   "cell_type": "code",
   "execution_count": 18,
   "source": [
    "similar('bad')"
   ],
   "outputs": [
    {
     "output_type": "execute_result",
     "data": {
      "text/plain": [
       "[('bad', -0.0),\n",
       " (\".There's\", -0.5686938789782743),\n",
       " ('welcomed', -0.5969562198860003),\n",
       " ('jyaada', -0.5989628126421535),\n",
       " ('Darlings),', -0.6007910774110294),\n",
       " ('/>Around', -0.6016254931772489),\n",
       " ('Winslow)', -0.6030105777463473),\n",
       " ('adversity\"', -0.6063447062134456),\n",
       " ('Solo-Chewbacca', -0.6064779154995508),\n",
       " ('Nelligan?', -0.6066830270297145)]"
      ]
     },
     "metadata": {},
     "execution_count": 18
    }
   ],
   "metadata": {}
  },
  {
   "cell_type": "code",
   "execution_count": 2,
   "source": [
    "word2index['beautiful']"
   ],
   "outputs": [
    {
     "output_type": "error",
     "ename": "NameError",
     "evalue": "name 'word2index' is not defined",
     "traceback": [
      "\u001b[1;31m---------------------------------------------------------------------------\u001b[0m",
      "\u001b[1;31mNameError\u001b[0m                                 Traceback (most recent call last)",
      "\u001b[1;32m<ipython-input-2-0d005092ae35>\u001b[0m in \u001b[0;36m<module>\u001b[1;34m\u001b[0m\n\u001b[1;32m----> 1\u001b[1;33m \u001b[0mword2index\u001b[0m\u001b[1;33m[\u001b[0m\u001b[1;34m'judge'\u001b[0m\u001b[1;33m]\u001b[0m\u001b[1;33m\u001b[0m\u001b[1;33m\u001b[0m\u001b[0m\n\u001b[0m",
      "\u001b[1;31mNameError\u001b[0m: name 'word2index' is not defined"
     ]
    }
   ],
   "metadata": {}
  },
  {
   "cell_type": "code",
   "execution_count": null,
   "source": [],
   "outputs": [],
   "metadata": {}
  }
 ],
 "metadata": {
  "orig_nbformat": 4,
  "language_info": {
   "name": "python",
   "version": "3.9.1",
   "mimetype": "text/x-python",
   "codemirror_mode": {
    "name": "ipython",
    "version": 3
   },
   "pygments_lexer": "ipython3",
   "nbconvert_exporter": "python",
   "file_extension": ".py"
  },
  "kernelspec": {
   "name": "python3",
   "display_name": "Python 3.9.1 64-bit"
  },
  "interpreter": {
   "hash": "ce90fcae62cdc09553768240cfe068f0f50d8bd5e5b69ab39b3ef7652f49ed7b"
  }
 },
 "nbformat": 4,
 "nbformat_minor": 2
}