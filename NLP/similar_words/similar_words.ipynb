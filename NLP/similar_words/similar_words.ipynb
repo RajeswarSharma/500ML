{
 "cells": [
  {
   "cell_type": "code",
   "execution_count": 32,
   "source": [
    "import pandas as pd\r\n",
    "import numpy as np\r\n",
    "import random\r\n",
    "random.seed(1)"
   ],
   "outputs": [],
   "metadata": {}
  },
  {
   "cell_type": "code",
   "execution_count": 3,
   "source": [
    "data = pd.read_csv('cleaned.csv')"
   ],
   "outputs": [],
   "metadata": {}
  },
  {
   "cell_type": "code",
   "execution_count": 33,
   "source": [
    "from collections import Counter\r\n",
    "vocab = []\r\n",
    "for sent in data['Reviews']:\r\n",
    "    wordCnt = Counter()\r\n",
    "    for word in sent.split(\" \"):\r\n",
    "        vocab.append(word)\r\n"
   ],
   "outputs": [],
   "metadata": {}
  },
  {
   "cell_type": "code",
   "execution_count": 35,
   "source": [
    "word2index = {}\r\n",
    "for index,word in enumerate(vocab):\r\n",
    "    word2index[word]=index\r\n",
    "\r\n",
    "input_data = []\r\n",
    "concatinated=[]\r\n",
    "for sent in data[\"Reviews\"]:\r\n",
    "    sent_indeces = []\r\n",
    "    for word in sent.split(\" \"):\r\n",
    "        try:\r\n",
    "            sent_indeces.append(word2index[word])\r\n",
    "            concatinated.append(word2index[word])\r\n",
    "        except:\r\n",
    "            \"\"\r\n",
    "    input_data.append(sent_indeces)\r\n",
    "concatinated = np.array(concatinated)\r\n",
    "random.shuffle(input_data)        "
   ],
   "outputs": [],
   "metadata": {}
  },
  {
   "cell_type": "code",
   "execution_count": 37,
   "source": [
    "def sigmoid(x):\r\n",
    "    return 1/(1+np.exp(-x))"
   ],
   "outputs": [],
   "metadata": {}
  },
  {
   "cell_type": "code",
   "execution_count": 38,
   "source": [
    "alpha,iterations = 0.05,2\r\n",
    "hidden_size,window,negative = (50,2,5)\r\n",
    "weights_0_1 = (np.random.rand(len(vocab), hidden_size) - 0.5) * 0.2\r\n",
    "weights_1_2 = np.random.rand(len(vocab), hidden_size)*0\r\n",
    "layer_2_target = np.zeros(negative+1)\r\n",
    "layer_2_target[0] = 1"
   ],
   "outputs": [],
   "metadata": {}
  },
  {
   "cell_type": "code",
   "execution_count": 39,
   "source": [
    "for rev_i,review in enumerate(input_data*iterations):\r\n",
    "    for target_i in range(len(review)):\r\n",
    "        target_samples = [review[target_i]]+list(concatinated[(np.random.rand(negative)*len(concatinated)).astype('int').tolist()])\r\n",
    "        left_context = review[max(0,target_i-window):target_i]\r\n",
    "        right_context = review[target_i+1:min(target_i+window,len(review))]\r\n",
    "        layer_1 = np.mean(weights_0_1[left_context+right_context],axis=0)\r\n",
    "        layer_2 = sigmoid(layer_1.dot(weights_1_2[target_samples].T))\r\n",
    "        layer_2_delta = layer_2 - layer_2_target\r\n",
    "        layer_1_delta = layer_2_delta.dot(weights_1_2[target_samples])\r\n",
    "\r\n",
    "        weights_0_1[left_context+right_context] -= layer_1_delta*alpha\r\n",
    "        weights_1_2[target_samples] -= np.outer(layer_2_delta,layer_1)*alpha\r\n",
    "        if(rev_i % 250 == 0):\r\n",
    "            sys.stdout.write('\\rProgress:'+str(rev_i/float(len(input_data)\r\n",
    "                                                       * iterations)))"
   ],
   "outputs": [
    {
     "output_type": "stream",
     "name": "stdout",
     "text": [
      "Progress:0.995"
     ]
    }
   ],
   "metadata": {}
  },
  {
   "cell_type": "code",
   "execution_count": 53,
   "source": [
    "import math\r\n",
    "def similar(target):\r\n",
    "    target_index = word2index[target]\r\n",
    "    scores = Counter()\r\n",
    "    for word, index in word2index.items():\r\n",
    "        diff = weights_0_1[index]-weights_0_1[target_index]\r\n",
    "        sq_diff = diff**2\r\n",
    "        scores[word] = -math.sqrt(sum(sq_diff))\r\n",
    "    return scores.most_common(6)[1:]\r\n"
   ],
   "outputs": [],
   "metadata": {}
  },
  {
   "cell_type": "code",
   "execution_count": 59,
   "source": [
    "similar('target')"
   ],
   "outputs": [],
   "metadata": {}
  },
  {
   "cell_type": "code",
   "execution_count": null,
   "source": [],
   "outputs": [],
   "metadata": {}
  }
 ],
 "metadata": {
  "orig_nbformat": 4,
  "language_info": {
   "name": "python",
   "version": "3.9.1",
   "mimetype": "text/x-python",
   "codemirror_mode": {
    "name": "ipython",
    "version": 3
   },
   "pygments_lexer": "ipython3",
   "nbconvert_exporter": "python",
   "file_extension": ".py"
  },
  "kernelspec": {
   "name": "python3",
   "display_name": "Python 3.9.1 64-bit"
  },
  "interpreter": {
   "hash": "ce90fcae62cdc09553768240cfe068f0f50d8bd5e5b69ab39b3ef7652f49ed7b"
  }
 },
 "nbformat": 4,
 "nbformat_minor": 