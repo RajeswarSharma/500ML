{
 "cells": [
  {
   "cell_type": "code",
   "execution_count": 1,
   "metadata": {},
   "outputs": [],
   "source": [
    "import pandas as pd\n",
    "import numpy as np\n",
    "import matplotlib.pyplot as plt \n",
    "import seaborn as sns\n",
    "sns.set()"
   ]
  },
  {
   "cell_type": "code",
   "execution_count": 2,
   "metadata": {},
   "outputs": [],
   "source": [
    "data = pd.read_csv('./data.csv')"
   ]
  },
  {
   "cell_type": "code",
   "execution_count": 3,
   "metadata": {},
   "outputs": [
    {
     "data": {
      "text/html": [
       "<div>\n",
       "<style scoped>\n",
       "    .dataframe tbody tr th:only-of-type {\n",
       "        vertical-align: middle;\n",
       "    }\n",
       "\n",
       "    .dataframe tbody tr th {\n",
       "        vertical-align: top;\n",
       "    }\n",
       "\n",
       "    .dataframe thead th {\n",
       "        text-align: right;\n",
       "    }\n",
       "</style>\n",
       "<table border=\"1\" class=\"dataframe\">\n",
       "  <thead>\n",
       "    <tr style=\"text-align: right;\">\n",
       "      <th></th>\n",
       "      <th>Date</th>\n",
       "      <th>Open</th>\n",
       "      <th>High</th>\n",
       "      <th>Low</th>\n",
       "      <th>Close</th>\n",
       "      <th>Adj Close</th>\n",
       "      <th>Volume</th>\n",
       "    </tr>\n",
       "  </thead>\n",
       "  <tbody>\n",
       "    <tr>\n",
       "      <th>0</th>\n",
       "      <td>2020-06-24</td>\n",
       "      <td>18.480000</td>\n",
       "      <td>18.540001</td>\n",
       "      <td>18.080000</td>\n",
       "      <td>18.110001</td>\n",
       "      <td>17.876858</td>\n",
       "      <td>160700</td>\n",
       "    </tr>\n",
       "    <tr>\n",
       "      <th>1</th>\n",
       "      <td>2020-06-25</td>\n",
       "      <td>18.059999</td>\n",
       "      <td>18.059999</td>\n",
       "      <td>17.670000</td>\n",
       "      <td>18.020000</td>\n",
       "      <td>17.788017</td>\n",
       "      <td>127300</td>\n",
       "    </tr>\n",
       "    <tr>\n",
       "      <th>2</th>\n",
       "      <td>2020-06-26</td>\n",
       "      <td>17.799999</td>\n",
       "      <td>17.900000</td>\n",
       "      <td>17.430000</td>\n",
       "      <td>17.770000</td>\n",
       "      <td>17.541235</td>\n",
       "      <td>229100</td>\n",
       "    </tr>\n",
       "    <tr>\n",
       "      <th>3</th>\n",
       "      <td>2020-06-29</td>\n",
       "      <td>18.010000</td>\n",
       "      <td>18.450001</td>\n",
       "      <td>17.809999</td>\n",
       "      <td>18.250000</td>\n",
       "      <td>18.015057</td>\n",
       "      <td>140300</td>\n",
       "    </tr>\n",
       "    <tr>\n",
       "      <th>4</th>\n",
       "      <td>2020-06-30</td>\n",
       "      <td>18.090000</td>\n",
       "      <td>18.730000</td>\n",
       "      <td>17.969999</td>\n",
       "      <td>18.120001</td>\n",
       "      <td>17.886730</td>\n",
       "      <td>181500</td>\n",
       "    </tr>\n",
       "  </tbody>\n",
       "</table>\n",
       "</div>"
      ],
      "text/plain": [
       "         Date       Open       High        Low      Close  Adj Close  Volume\n",
       "0  2020-06-24  18.480000  18.540001  18.080000  18.110001  17.876858  160700\n",
       "1  2020-06-25  18.059999  18.059999  17.670000  18.020000  17.788017  127300\n",
       "2  2020-06-26  17.799999  17.900000  17.430000  17.770000  17.541235  229100\n",
       "3  2020-06-29  18.010000  18.450001  17.809999  18.250000  18.015057  140300\n",
       "4  2020-06-30  18.090000  18.730000  17.969999  18.120001  17.886730  181500"
      ]
     },
     "execution_count": 3,
     "metadata": {},
     "output_type": "execute_result"
    }
   ],
   "source": [
    "data.head()"
   ]
  },
  {
   "cell_type": "markdown",
   "metadata": {},
   "source": [
    "# Preprocessing"
   ]
  },
  {
   "cell_type": "code",
   "execution_count": 4,
   "metadata": {},
   "outputs": [
    {
     "data": {
      "text/plain": [
       "Index(['Date', 'Open', 'High', 'Low', 'Close', 'Adj Close', 'Volume'], dtype='object')"
      ]
     },
     "execution_count": 4,
     "metadata": {},
     "output_type": "execute_result"
    }
   ],
   "source": [
    "data.columns"
   ]
  },
  {
   "cell_type": "code",
   "execution_count": 5,
   "metadata": {},
   "outputs": [
    {
     "data": {
      "text/plain": [
       "252"
      ]
     },
     "execution_count": 5,
     "metadata": {},
     "output_type": "execute_result"
    }
   ],
   "source": [
    "len(data)"
   ]
  },
  {
   "cell_type": "code",
   "execution_count": 6,
   "metadata": {},
   "outputs": [],
   "source": [
    "data = data.drop(['Date'],axis=1)"
   ]
  },
  {
   "cell_type": "code",
   "execution_count": 7,
   "metadata": {},
   "outputs": [
    {
     "data": {
      "text/html": [
       "<div>\n",
       "<style scoped>\n",
       "    .dataframe tbody tr th:only-of-type {\n",
       "        vertical-align: middle;\n",
       "    }\n",
       "\n",
       "    .dataframe tbody tr th {\n",
       "        vertical-align: top;\n",
       "    }\n",
       "\n",
       "    .dataframe thead th {\n",
       "        text-align: right;\n",
       "    }\n",
       "</style>\n",
       "<table border=\"1\" class=\"dataframe\">\n",
       "  <thead>\n",
       "    <tr style=\"text-align: right;\">\n",
       "      <th></th>\n",
       "      <th>Open</th>\n",
       "      <th>High</th>\n",
       "      <th>Low</th>\n",
       "      <th>Close</th>\n",
       "      <th>Adj Close</th>\n",
       "      <th>Volume</th>\n",
       "    </tr>\n",
       "  </thead>\n",
       "  <tbody>\n",
       "    <tr>\n",
       "      <th>0</th>\n",
       "      <td>18.480000</td>\n",
       "      <td>18.540001</td>\n",
       "      <td>18.080000</td>\n",
       "      <td>18.110001</td>\n",
       "      <td>17.876858</td>\n",
       "      <td>160700</td>\n",
       "    </tr>\n",
       "    <tr>\n",
       "      <th>1</th>\n",
       "      <td>18.059999</td>\n",
       "      <td>18.059999</td>\n",
       "      <td>17.670000</td>\n",
       "      <td>18.020000</td>\n",
       "      <td>17.788017</td>\n",
       "      <td>127300</td>\n",
       "    </tr>\n",
       "    <tr>\n",
       "      <th>2</th>\n",
       "      <td>17.799999</td>\n",
       "      <td>17.900000</td>\n",
       "      <td>17.430000</td>\n",
       "      <td>17.770000</td>\n",
       "      <td>17.541235</td>\n",
       "      <td>229100</td>\n",
       "    </tr>\n",
       "    <tr>\n",
       "      <th>3</th>\n",
       "      <td>18.010000</td>\n",
       "      <td>18.450001</td>\n",
       "      <td>17.809999</td>\n",
       "      <td>18.250000</td>\n",
       "      <td>18.015057</td>\n",
       "      <td>140300</td>\n",
       "    </tr>\n",
       "    <tr>\n",
       "      <th>4</th>\n",
       "      <td>18.090000</td>\n",
       "      <td>18.730000</td>\n",
       "      <td>17.969999</td>\n",
       "      <td>18.120001</td>\n",
       "      <td>17.886730</td>\n",
       "      <td>181500</td>\n",
       "    </tr>\n",
       "    <tr>\n",
       "      <th>...</th>\n",
       "      <td>...</td>\n",
       "      <td>...</td>\n",
       "      <td>...</td>\n",
       "      <td>...</td>\n",
       "      <td>...</td>\n",
       "      <td>...</td>\n",
       "    </tr>\n",
       "    <tr>\n",
       "      <th>247</th>\n",
       "      <td>38.099998</td>\n",
       "      <td>38.410000</td>\n",
       "      <td>37.540001</td>\n",
       "      <td>37.680000</td>\n",
       "      <td>37.680000</td>\n",
       "      <td>68300</td>\n",
       "    </tr>\n",
       "    <tr>\n",
       "      <th>248</th>\n",
       "      <td>37.230000</td>\n",
       "      <td>37.250000</td>\n",
       "      <td>36.770000</td>\n",
       "      <td>37.000000</td>\n",
       "      <td>37.000000</td>\n",
       "      <td>139600</td>\n",
       "    </tr>\n",
       "    <tr>\n",
       "      <th>249</th>\n",
       "      <td>37.340000</td>\n",
       "      <td>37.480000</td>\n",
       "      <td>36.910000</td>\n",
       "      <td>37.400002</td>\n",
       "      <td>37.400002</td>\n",
       "      <td>77200</td>\n",
       "    </tr>\n",
       "    <tr>\n",
       "      <th>250</th>\n",
       "      <td>37.250000</td>\n",
       "      <td>37.570000</td>\n",
       "      <td>36.830002</td>\n",
       "      <td>36.889999</td>\n",
       "      <td>36.889999</td>\n",
       "      <td>110000</td>\n",
       "    </tr>\n",
       "    <tr>\n",
       "      <th>251</th>\n",
       "      <td>37.009998</td>\n",
       "      <td>37.009998</td>\n",
       "      <td>36.369999</td>\n",
       "      <td>36.480000</td>\n",
       "      <td>36.480000</td>\n",
       "      <td>129000</td>\n",
       "    </tr>\n",
       "  </tbody>\n",
       "</table>\n",
       "<p>252 rows × 6 columns</p>\n",
       "</div>"
      ],
      "text/plain": [
       "          Open       High        Low      Close  Adj Close  Volume\n",
       "0    18.480000  18.540001  18.080000  18.110001  17.876858  160700\n",
       "1    18.059999  18.059999  17.670000  18.020000  17.788017  127300\n",
       "2    17.799999  17.900000  17.430000  17.770000  17.541235  229100\n",
       "3    18.010000  18.450001  17.809999  18.250000  18.015057  140300\n",
       "4    18.090000  18.730000  17.969999  18.120001  17.886730  181500\n",
       "..         ...        ...        ...        ...        ...     ...\n",
       "247  38.099998  38.410000  37.540001  37.680000  37.680000   68300\n",
       "248  37.230000  37.250000  36.770000  37.000000  37.000000  139600\n",
       "249  37.340000  37.480000  36.910000  37.400002  37.400002   77200\n",
       "250  37.250000  37.570000  36.830002  36.889999  36.889999  110000\n",
       "251  37.009998  37.009998  36.369999  36.480000  36.480000  129000\n",
       "\n",
       "[252 rows x 6 columns]"
      ]
     },
     "execution_count": 7,
     "metadata": {},
     "output_type": "execute_result"
    }
   ],
   "source": [
    "data"
   ]
  },
  {
   "cell_type": "code",
   "execution_count": 8,
   "metadata": {},
   "outputs": [
    {
     "data": {
      "text/plain": [
       "Open         0\n",
       "High         0\n",
       "Low          0\n",
       "Close        0\n",
       "Adj Close    0\n",
       "Volume       0\n",
       "dtype: int64"
      ]
     },
     "execution_count": 8,
     "metadata": {},
     "output_type": "execute_result"
    }
   ],
   "source": [
    "data.isna().sum()"
   ]
  },
  {
   "cell_type": "code",
   "execution_count": 9,
   "metadata": {},
   "outputs": [
    {
     "data": {
      "text/html": [
       "<div>\n",
       "<style scoped>\n",
       "    .dataframe tbody tr th:only-of-type {\n",
       "        vertical-align: middle;\n",
       "    }\n",
       "\n",
       "    .dataframe tbody tr th {\n",
       "        vertical-align: top;\n",
       "    }\n",
       "\n",
       "    .dataframe thead th {\n",
       "        text-align: right;\n",
       "    }\n",
       "</style>\n",
       "<table border=\"1\" class=\"dataframe\">\n",
       "  <thead>\n",
       "    <tr style=\"text-align: right;\">\n",
       "      <th></th>\n",
       "      <th>Open</th>\n",
       "      <th>High</th>\n",
       "      <th>Low</th>\n",
       "      <th>Close</th>\n",
       "      <th>Adj Close</th>\n",
       "      <th>Volume</th>\n",
       "    </tr>\n",
       "  </thead>\n",
       "  <tbody>\n",
       "    <tr>\n",
       "      <th>count</th>\n",
       "      <td>252.000000</td>\n",
       "      <td>252.000000</td>\n",
       "      <td>252.000000</td>\n",
       "      <td>252.000000</td>\n",
       "      <td>252.000000</td>\n",
       "      <td>252.000000</td>\n",
       "    </tr>\n",
       "    <tr>\n",
       "      <th>mean</th>\n",
       "      <td>29.619127</td>\n",
       "      <td>30.026310</td>\n",
       "      <td>29.203135</td>\n",
       "      <td>29.617937</td>\n",
       "      <td>29.470533</td>\n",
       "      <td>99352.380952</td>\n",
       "    </tr>\n",
       "    <tr>\n",
       "      <th>std</th>\n",
       "      <td>6.833930</td>\n",
       "      <td>6.857797</td>\n",
       "      <td>6.776183</td>\n",
       "      <td>6.794789</td>\n",
       "      <td>6.860502</td>\n",
       "      <td>55321.397364</td>\n",
       "    </tr>\n",
       "    <tr>\n",
       "      <th>min</th>\n",
       "      <td>17.080000</td>\n",
       "      <td>17.570000</td>\n",
       "      <td>16.740000</td>\n",
       "      <td>17.110001</td>\n",
       "      <td>16.889732</td>\n",
       "      <td>28800.000000</td>\n",
       "    </tr>\n",
       "    <tr>\n",
       "      <th>25%</th>\n",
       "      <td>22.882500</td>\n",
       "      <td>23.170000</td>\n",
       "      <td>22.470000</td>\n",
       "      <td>23.045000</td>\n",
       "      <td>22.792637</td>\n",
       "      <td>65050.000000</td>\n",
       "    </tr>\n",
       "    <tr>\n",
       "      <th>50%</th>\n",
       "      <td>30.580000</td>\n",
       "      <td>30.825001</td>\n",
       "      <td>29.945000</td>\n",
       "      <td>30.500000</td>\n",
       "      <td>30.333924</td>\n",
       "      <td>86500.000000</td>\n",
       "    </tr>\n",
       "    <tr>\n",
       "      <th>75%</th>\n",
       "      <td>36.000000</td>\n",
       "      <td>36.352500</td>\n",
       "      <td>35.255000</td>\n",
       "      <td>35.982501</td>\n",
       "      <td>35.812212</td>\n",
       "      <td>116975.000000</td>\n",
       "    </tr>\n",
       "    <tr>\n",
       "      <th>max</th>\n",
       "      <td>39.580002</td>\n",
       "      <td>39.650002</td>\n",
       "      <td>38.580002</td>\n",
       "      <td>38.779999</td>\n",
       "      <td>38.779999</td>\n",
       "      <td>391600.000000</td>\n",
       "    </tr>\n",
       "  </tbody>\n",
       "</table>\n",
       "</div>"
      ],
      "text/plain": [
       "             Open        High         Low       Close   Adj Close  \\\n",
       "count  252.000000  252.000000  252.000000  252.000000  252.000000   \n",
       "mean    29.619127   30.026310   29.203135   29.617937   29.470533   \n",
       "std      6.833930    6.857797    6.776183    6.794789    6.860502   \n",
       "min     17.080000   17.570000   16.740000   17.110001   16.889732   \n",
       "25%     22.882500   23.170000   22.470000   23.045000   22.792637   \n",
       "50%     30.580000   30.825001   29.945000   30.500000   30.333924   \n",
       "75%     36.000000   36.352500   35.255000   35.982501   35.812212   \n",
       "max     39.580002   39.650002   38.580002   38.779999   38.779999   \n",
       "\n",
       "              Volume  \n",
       "count     252.000000  \n",
       "mean    99352.380952  \n",
       "std     55321.397364  \n",
       "min     28800.000000  \n",
       "25%     65050.000000  \n",
       "50%     86500.000000  \n",
       "75%    116975.000000  \n",
       "max    391600.000000  "
      ]
     },
     "execution_count": 9,
     "metadata": {},
     "output_type": "execute_result"
    }
   ],
   "source": [
    "data.describe()"
   ]
  },
  {
   "cell_type": "code",
   "execution_count": 10,
   "metadata": {},
   "outputs": [
    {
     "data": {
      "text/plain": [
       "<AxesSubplot:>"
      ]
     },
     "execution_count": 10,
     "metadata": {},
     "output_type": "execute_result"
    },
    {
     "data": {
      "image/png": "[encoded data removed]",
      "text/plain": [
       "<Figure size 432x288 with 1 Axes>"
      ]
     },
     "metadata": {},
     "output_type": "display_data"
    }
   ],
   "source": [
    "data.boxplot(column=['Volume'],return_type='axes')"
   ]
  },
  {
   "cell_type": "markdown",
   "metadata": {},
   "source": [
    "The Volume colum has outliers\n",
    ". So we need to filter our data to avoid them"
   ]
  },
  {
   "cell_type": "code",
   "execution_count": 11,
   "metadata": {},
   "outputs": [],
   "source": [
    "filtered_data = data[data['Volume']<180000]"
   ]
  },
  {
   "cell_type": "code",
   "execution_count": 12,
   "metadata": {
    "scrolled": true
   },
   "outputs": [
    {
     "data": {
      "text/plain": [
       "<AxesSubplot:>"
      ]
     },
     "execution_count": 12,
     "metadata": {},
     "output_type": "execute_result"
    },
    {
     "data": {
      "image/png": "[encoded data removed]",
      "text/plain": [
       "<Figure size 432x288 with 1 Axes>"
      ]
     },
     "metadata": {},
     "output_type": "display_data"
    }
   ],
   "source": [
    "filtered_data.boxplot(column=['Volume'],return_type='axes')"
   ]
  },
  {
   "cell_type": "code",
   "execution_count": 13,
   "metadata": {},
   "outputs": [
    {
     "data": {
      "text/plain": [
       "<AxesSubplot:>"
      ]
     },
     "execution_count": 13,
     "metadata": {},
     "output_type": "execute_result"
    },
    {
     "data": {
      "image/png": "[encoded data removed]",
      "text/plain": [
       "<Figure size 432x288 with 2 Axes>"
      ]
     },
     "metadata": {},
     "output_type": "display_data"
    }
   ],
   "source": [
    "sns.heatmap(filtered_data.corr())"
   ]
  },
  {
   "cell_type": "code",
   "execution_count": 14,
   "metadata": {},
   "outputs": [],
   "source": [
    "y = filtered_data['Close']\n",
    "x = filtered_data.drop(['Close'],axis=1)"
   ]
  },
  {
   "cell_type": "markdown",
   "metadata": {},
   "source": [
    "From the heatmap we can see attributes are highly correlated, we have to check for the multi-colinearity"
   ]
  },
  {
   "cell_type": "code",
   "execution_count": 15,
   "metadata": {},
   "outputs": [],
   "source": [
    "from statsmodels.stats.outliers_influence import variance_inflation_factor as vif"
   ]
  },
  {
   "cell_type": "code",
   "execution_count": 16,
   "metadata": {},
   "outputs": [],
   "source": [
    "VIF = pd.DataFrame()"
   ]
  },
  {
   "cell_type": "code",
   "execution_count": 17,
   "metadata": {},
   "outputs": [],
   "source": [
    "VIF['Colums'] = x.columns "
   ]
  },
  {
   "cell_type": "code",
   "execution_count": 18,
   "metadata": {},
   "outputs": [],
   "source": [
    "VIF['vif'] = [vif(x.values,i) for i in range(len(x.columns))]"
   ]
  },
  {
   "cell_type": "code",
   "execution_count": 19,
   "metadata": {},
   "outputs": [
    {
     "data": {
      "text/html": [
       "<div>\n",
       "<style scoped>\n",
       "    .dataframe tbody tr th:only-of-type {\n",
       "        vertical-align: middle;\n",
       "    }\n",
       "\n",
       "    .dataframe tbody tr th {\n",
       "        vertical-align: top;\n",
       "    }\n",
       "\n",
       "    .dataframe thead th {\n",
       "        text-align: right;\n",
       "    }\n",
       "</style>\n",
       "<table border=\"1\" class=\"dataframe\">\n",
       "  <thead>\n",
       "    <tr style=\"text-align: right;\">\n",
       "      <th></th>\n",
       "      <th>Colums</th>\n",
       "      <th>vif</th>\n",
       "    </tr>\n",
       "  </thead>\n",
       "  <tbody>\n",
       "    <tr>\n",
       "      <th>0</th>\n",
       "      <td>Open</td>\n",
       "      <td>14313.438070</td>\n",
       "    </tr>\n",
       "    <tr>\n",
       "      <th>1</th>\n",
       "      <td>High</td>\n",
       "      <td>21180.657763</td>\n",
       "    </tr>\n",
       "    <tr>\n",
       "      <th>2</th>\n",
       "      <td>Low</td>\n",
       "      <td>26992.620330</td>\n",
       "    </tr>\n",
       "    <tr>\n",
       "      <th>3</th>\n",
       "      <td>Adj Close</td>\n",
       "      <td>15685.541945</td>\n",
       "    </tr>\n",
       "    <tr>\n",
       "      <th>4</th>\n",
       "      <td>Volume</td>\n",
       "      <td>6.703484</td>\n",
       "    </tr>\n",
       "  </tbody>\n",
       "</table>\n",
       "</div>"
      ],
      "text/plain": [
       "      Colums           vif\n",
       "0       Open  14313.438070\n",
       "1       High  21180.657763\n",
       "2        Low  26992.620330\n",
       "3  Adj Close  15685.541945\n",
       "4     Volume      6.703484"
      ]
     },
     "execution_count": 19,
     "metadata": {},
     "output_type": "execute_result"
    }
   ],
   "source": [
    "VIF"
   ]
  },
  {
   "cell_type": "code",
   "execution_count": 20,
   "metadata": {},
   "outputs": [],
   "source": [
    "x = x.drop(['Adj Close','Low','Volume','High'],axis=1)"
   ]
  },
  {
   "cell_type": "code",
   "execution_count": 21,
   "metadata": {},
   "outputs": [
    {
     "data": {
      "text/plain": [
       "<matplotlib.collections.PathCollection at 0x290ffe3d130>"
      ]
     },
     "execution_count": 21,
     "metadata": {},
     "output_type": "execute_result"
    },
    {
     "data": {
      "image/png": "[encoded data removed]",
      "text/plain": [
       "<Figure size 432x288 with 1 Axes>"
      ]
     },
     "metadata": {},
     "output_type": "display_data"
    }
   ],
   "source": [
    "plt.scatter(x,y)"
   ]
  },
  {
   "cell_type": "markdown",
   "metadata": {},
   "source": [
    "Removed the attributes with high vif values to avoid multicolianity and skewed model"
   ]
  },
  {
   "cell_type": "markdown",
   "metadata": {},
   "source": [
    "# Model Training"
   ]
  },
  {
   "cell_type": "code",
   "execution_count": 22,
   "metadata": {},
   "outputs": [],
   "source": [
    "from sklearn.model_selection import train_test_split"
   ]
  },
  {
   "cell_type": "code",
   "execution_count": 23,
   "metadata": {},
   "outputs": [],
   "source": [
    "x_train,x_test,y_train,y_test = train_test_split(x,y,test_size=0.2)"
   ]
  },
  {
   "cell_type": "code",
   "execution_count": 24,
   "metadata": {},
   "outputs": [],
   "source": [
    "from sklearn.linear_model import LinearRegression"
   ]
  },
  {
   "cell_type": "code",
   "execution_count": 25,
   "metadata": {},
   "outputs": [],
   "source": [
    "model = LinearRegression()"
   ]
  },
  {
   "cell_type": "code",
   "execution_count": 26,
   "metadata": {},
   "outputs": [
    {
     "data": {
      "text/plain": [
       "LinearRegression()"
      ]
     },
     "execution_count": 26,
     "metadata": {},
     "output_type": "execute_result"
    }
   ],
   "source": [
    "model.fit(x_train,y_train)"
   ]
  },
  {
   "cell_type": "code",
   "execution_count": 33,
   "metadata": {},
   "outputs": [
    {
     "data": {
      "text/plain": [
       "0.9923996217000189"
      ]
     },
     "execution_count": 33,
     "metadata": {},
     "output_type": "execute_result"
    }
   ],
   "source": [
    "model.score(x_test,y_test)"
   ]
  },
  {
   "cell_type": "code",
   "execution_count": null,
   "metadata": {},
   "outputs": [],
   "source": []
  }
 ],
 "metadata": {
  "kernelspec": {
   "display_name": "Python 3",
   "language": "python",
   "name": "python3"
  },
  "language_info": {
   "codemirror_mode": {
    "name": "ipython",
    "version": 3
   },
   "file_extension": ".py",
   "mimetype": "text/x-python",
   "name": "python",
   "nbconvert_exporter": "python",
   "pygments_lexer": "ipython3",
   "version": "3.9.1"
  }
 },
 "nbformat": 4,
 "nbformat_minor": 4
}
