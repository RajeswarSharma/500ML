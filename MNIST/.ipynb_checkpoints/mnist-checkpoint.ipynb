{
 "cells": [
  {
   "cell_type": "code",
   "execution_count": 1,
   "metadata": {},
   "outputs": [],
   "source": [
    "import matplotlib.pyplot as plt \n",
    "import seaborn as sns\n",
    "import numpy as np \n",
    "import pandas as pd \n",
    "import cv2 \n",
    "import os"
   ]
  },
  {
   "cell_type": "markdown",
   "metadata": {},
   "source": [
    "# Defining Helper Functions"
   ]
  },
  {
   "cell_type": "code",
   "execution_count": 2,
   "metadata": {},
   "outputs": [],
   "source": [
    "def img_to_val(img):\n",
    "    r = cv2.cvtColor(img,cv2.COLOR_BGR2GRAY)\n",
    "    # removing noice values from the image\n",
    "    ret, r = cv2.threshold(r,180,255,cv2.THRESH_BINARY)\n",
    "    r = r.reshape(r.shape[0]*r.shape[1])\n",
    "    return r"
   ]
  },
  {
   "cell_type": "code",
   "execution_count": 3,
   "metadata": {},
   "outputs": [],
   "source": [
    "def readall_img_names(folder):\n",
    "    loc_list = []\n",
    "    for file_name in os.listdir(folder):\n",
    "        loc_list.append(os.path.join(folder,file_name))\n",
    "    return loc_list"
   ]
  },
  {
   "cell_type": "code",
   "execution_count": null,
   "metadata": {},
   "outputs": [],
   "source": [
    "def build_df():\n",
    "    os.write(0,'converting\\n'.encode())\n",
    "    i=0\n",
    "    col_list = ['label']+list(range(784))\n",
    "    df = pd.DataFrame(columns=col_list)\n",
    "    for i in range(10):\n",
    "        path = './trainingSet/trainingSet/'+str(i)+'/'\n",
    "        loc_list = readall_img_names(path)\n",
    "        for loc in loc_list:\n",
    "            img = cv2.imread(loc)\n",
    "            r = [str(i)]\n",
    "            r=r+list(img_to_val(img))\n",
    "            df.loc[len(df)] = r\n",
    "            os.write(0,('Data Extracted: '+str(i)+'\\n').encode())\n",
    "            i+=1\n",
    "    df.to_csv('trainingSet.csv')\n",
    "    return df"
   ]
  },
  {
   "cell_type": "markdown",
   "metadata": {},
   "source": [
    "# Converting images to Structured Data"
   ]
  },
  {
   "cell_type": "code",
   "execution_count": null,
   "metadata": {},
   "outputs": [],
   "source": []
  }
 ],
 "metadata": {
  "kernelspec": {
   "display_name": "Python 3",
   "language": "python",
   "name": "python3"
  },
  "language_info": {
   "codemirror_mode": {
    "name": "ipython",
    "version": 3
   },
   "file_extension": ".py",
   "mimetype": "text/x-python",
   "name": "python",
   "nbconvert_exporter": "python",
   "pygments_lexer": "ipython3",
   "version": "3.9.1"
  }
 },
 "nbformat": 4,
 "nbformat_minor": 4
}
